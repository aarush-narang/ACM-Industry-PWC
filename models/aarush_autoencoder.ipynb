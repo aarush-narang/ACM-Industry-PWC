{
 "cells": [
  {
   "cell_type": "code",
   "execution_count": 1,
   "id": "6886005c",
   "metadata": {},
   "outputs": [],
   "source": [
    "# Imports & global config\n",
    "import pandas as pd\n",
    "import numpy as np\n",
    "import matplotlib.pyplot as plt\n",
    "import tensorflow as tf\n",
    "from tensorflow.keras import layers, models, callbacks, losses\n",
    "\n",
    "from sklearn.compose        import ColumnTransformer\n",
    "from sklearn.preprocessing   import OneHotEncoder, StandardScaler\n",
    "from sklearn.decomposition   import TruncatedSVD\n",
    "from sklearn.ensemble        import IsolationForest\n",
    "from sklearn.metrics         import (\n",
    "    accuracy_score, precision_score, recall_score,\n",
    "    f1_score, confusion_matrix, ConfusionMatrixDisplay\n",
    ")\n",
    "\n",
    "RANDOM_STATE = 42\n",
    "tf.random.set_seed(RANDOM_STATE)\n",
    "np.random.seed(RANDOM_STATE)\n"
   ]
  },
  {
   "cell_type": "code",
   "execution_count": 2,
   "id": "7c63fb38",
   "metadata": {},
   "outputs": [],
   "source": [
    "# Helper: load & prepare a CSV (+labels)\n",
    "def load_and_prepare(path_csv, path_labels=None):\n",
    "    \"\"\"\n",
    "    Load a transactions CSV and optional labels JSON.\n",
    "    Adds hour_of_day & day_of_week. Supports either\n",
    "    string or numeric amount.\n",
    "    \"\"\"\n",
    "    df = pd.read_csv(\n",
    "        path_csv,\n",
    "        usecols=[\"id\", \"date\", \"amount\", \"merchant_city\", \"mcc\"]\n",
    "    )\n",
    "    df[\"date\"] = pd.to_datetime(df[\"date\"])\n",
    "\n",
    "    # robust amount cleaning\n",
    "    if pd.api.types.is_numeric_dtype(df[\"amount\"]):\n",
    "        df[\"amount\"] = df[\"amount\"].astype(float)\n",
    "    else:\n",
    "        df[\"amount\"] = (\n",
    "            df[\"amount\"]\n",
    "              .astype(str)\n",
    "              .str.replace(r\"[$,]\", \"\", regex=True)\n",
    "              .astype(float)\n",
    "        )\n",
    "\n",
    "    df = df.rename(columns={\"id\": \"transaction_id\",\n",
    "                            \"merchant_city\": \"location\"})\n",
    "    df[\"hour_of_day\"] = df[\"date\"].dt.hour\n",
    "    df[\"day_of_week\"] = df[\"date\"].dt.weekday\n",
    "\n",
    "    if path_labels is not None:\n",
    "        lbl = (\n",
    "            pd.read_json(path_labels)\n",
    "              .reset_index()\n",
    "              .rename(columns={\"index\": \"transaction_id\"})\n",
    "              .replace({\"target\": {\"Yes\": 1, \"No\": 0}})\n",
    "        )\n",
    "        df = df.merge(lbl, on=\"transaction_id\")\n",
    "\n",
    "    # inject target column if it exists\n",
    "    df_target = pd.read_csv(path_csv)\n",
    "    if \"target\" in df_target.columns:\n",
    "        df[\"target\"] = df_target[\"target\"].astype(int)\n",
    "\n",
    "    return df"
   ]
  },
  {
   "cell_type": "code",
   "execution_count": 3,
   "id": "80f85eef",
   "metadata": {},
   "outputs": [],
   "source": [
    "# ColumnTransformer + SVD reducer\n",
    "cat_cols = [\"location\", \"mcc\"]\n",
    "num_cols = [\"amount\", \"hour_of_day\", \"day_of_week\"]\n",
    "\n",
    "base_pre = ColumnTransformer(\n",
    "    transformers=[\n",
    "        (\"cat\",\n",
    "         OneHotEncoder(handle_unknown=\"ignore\",\n",
    "                       sparse_output=True,\n",
    "                       dtype=np.int8),\n",
    "         cat_cols),\n",
    "        (\"num\", StandardScaler(), num_cols)\n",
    "    ],\n",
    "    sparse_threshold=0.3\n",
    ")\n",
    "\n",
    "# Reduce high-dim sparse matrix to 200 dense features\n",
    "svd = TruncatedSVD(\n",
    "        n_components=200,\n",
    "        algorithm=\"randomized\",\n",
    "        n_iter=5,\n",
    "        random_state=RANDOM_STATE\n",
    ")\n"
   ]
  },
  {
   "cell_type": "code",
   "execution_count": 4,
   "id": "67336803",
   "metadata": {},
   "outputs": [
    {
     "name": "stderr",
     "output_type": "stream",
     "text": [
      "/var/folders/gd/d2vxxv2x60j28jw85n3wg5dw0000gn/T/ipykernel_18059/3860006748.py:35: FutureWarning: Downcasting behavior in `replace` is deprecated and will be removed in a future version. To retain the old behavior, explicitly call `result.infer_objects(copy=False)`. To opt-in to the future behavior, set `pd.set_option('future.no_silent_downcasting', True)`\n",
      "  .replace({\"target\": {\"Yes\": 1, \"No\": 0}})\n"
     ]
    },
    {
     "name": "stdout",
     "output_type": "stream",
     "text": [
      "AE training set shape: (8023477, 200)\n"
     ]
    }
   ],
   "source": [
    "# Train Isolation Forest on Kaggle\n",
    "kag_csv   = \"assets/kaggle_data/transactions_data.csv\"\n",
    "kag_lbl   = \"assets/kaggle_data/train_fraud_labels.json\"\n",
    "\n",
    "train_df  = load_and_prepare(kag_csv, kag_lbl)\n",
    "y_train   = train_df[\"target\"]\n",
    "X_train   = train_df.drop(columns=[\"transaction_id\", \"date\", \"target\"])\n",
    "\n",
    "# 1️⃣  sparse one-hot/scaled  →  2️⃣  SVD  →  dense 200-col\n",
    "X_train_sparse   = base_pre.fit_transform(X_train)\n",
    "scaler = StandardScaler()\n",
    "X_train_reduced  = svd.fit_transform(X_train_sparse)\n",
    "X_train_scaled   = scaler.fit_transform(X_train_reduced)\n",
    "\n",
    "iso = IsolationForest(\n",
    "        n_estimators=300,\n",
    "        contamination=0.10,         # trim 10 % of the data\n",
    "        max_samples=\"auto\",\n",
    "        n_jobs=-1,\n",
    "        random_state=RANDOM_STATE\n",
    ")\n",
    "iso.fit(X_train_scaled)\n",
    "\n",
    "# Keep only normal points for AE training\n",
    "mask_keep   = iso.predict(X_train_scaled) == 1\n",
    "X_ae_dense  = scaler.transform(X_train_reduced[mask_keep]).astype(\"float32\")\n",
    "print(\"AE training set shape:\", X_ae_dense.shape)\n"
   ]
  },
  {
   "cell_type": "code",
   "execution_count": 5,
   "id": "ea285b81",
   "metadata": {},
   "outputs": [
    {
     "name": "stderr",
     "output_type": "stream",
     "text": [
      "2025-05-21 14:38:36.014352: I metal_plugin/src/device/metal_device.cc:1154] Metal device set to: Apple M4 Pro\n",
      "2025-05-21 14:38:36.015533: I metal_plugin/src/device/metal_device.cc:296] systemMemory: 48.00 GB\n",
      "2025-05-21 14:38:36.015547: I metal_plugin/src/device/metal_device.cc:313] maxCacheSize: 18.00 GB\n",
      "2025-05-21 14:38:36.015860: I tensorflow/core/common_runtime/pluggable_device/pluggable_device_factory.cc:305] Could not identify NUMA node of platform GPU ID 0, defaulting to 0. Your kernel may not have been built with NUMA support.\n",
      "2025-05-21 14:38:36.015872: I tensorflow/core/common_runtime/pluggable_device/pluggable_device_factory.cc:271] Created TensorFlow device (/job:localhost/replica:0/task:0/device:GPU:0 with 0 MB memory) -> physical PluggableDevice (device: 0, name: METAL, pci bus id: <undefined>)\n"
     ]
    },
    {
     "name": "stdout",
     "output_type": "stream",
     "text": [
      "Epoch 1/100\n"
     ]
    },
    {
     "name": "stderr",
     "output_type": "stream",
     "text": [
      "2025-05-21 14:38:47.052495: I tensorflow/core/grappler/optimizers/custom_graph_optimizer_registry.cc:117] Plugin optimizer for device_type GPU is enabled.\n"
     ]
    },
    {
     "name": "stdout",
     "output_type": "stream",
     "text": [
      "14104/14104 - 89s - 6ms/step - loss: 0.9009 - val_loss: 1.9435 - learning_rate: 1.0000e-04\n",
      "Epoch 2/100\n",
      "Epoch 2/100\n",
      "14104/14104 - 88s - 6ms/step - loss: 48.0262 - val_loss: 84.7341 - learning_rate: 1.0000e-04\n",
      "Epoch 3/100\n",
      "14104/14104 - 90s - 6ms/step - loss: 652.2208 - val_loss: 1843.2992 - learning_rate: 1.0000e-04\n",
      "Epoch 4/100\n",
      "\n",
      "Epoch 4: ReduceLROnPlateau reducing learning rate to 4.999999873689376e-05.\n",
      "14104/14104 - 89s - 6ms/step - loss: 6362.7920 - val_loss: 16789.6016 - learning_rate: 1.0000e-04\n",
      "Epoch 5/100\n",
      "14104/14104 - 89s - 6ms/step - loss: 17174.4258 - val_loss: 25392.8359 - learning_rate: 5.0000e-05\n",
      "Epoch 6/100\n",
      "14104/14104 - 88s - 6ms/step - loss: 32415.6055 - val_loss: 44135.9219 - learning_rate: 5.0000e-05\n"
     ]
    }
   ],
   "source": [
    "# Autoencoder architecture & training\n",
    "n_in       = X_ae_dense.shape[1]      # 200\n",
    "enc_units  = 128\n",
    "bottleneck = 32\n",
    "dec_units  = 128\n",
    "\n",
    "inp = layers.Input(shape=(n_in,))\n",
    "x   = layers.Dense(enc_units,  activation=\"relu\")(inp)\n",
    "x   = layers.Dense(bottleneck, activation=\"relu\")(x)\n",
    "x   = layers.Dense(dec_units,  activation=\"relu\")(x)\n",
    "out = layers.Dense(n_in,       activation=\"linear\")(x)\n",
    "\n",
    "ae = models.Model(inp, out)\n",
    "ae.compile(\n",
    "    optimizer=tf.keras.optimizers.Adam(1e-4),     # ↓ safer LR\n",
    "    loss=losses.MeanSquaredError()\n",
    ")\n",
    "\n",
    "early   = callbacks.EarlyStopping(patience=5, restore_best_weights=True)\n",
    "plateau = callbacks.ReduceLROnPlateau(patience=3, factor=0.5, verbose=1)\n",
    "\n",
    "history = ae.fit(\n",
    "    X_ae_dense, X_ae_dense,\n",
    "    epochs=100, batch_size=512, shuffle=True,\n",
    "    validation_split=0.1,\n",
    "    callbacks=[early, plateau], verbose=2\n",
    ")\n"
   ]
  },
  {
   "cell_type": "code",
   "execution_count": 6,
   "id": "ee39accf",
   "metadata": {},
   "outputs": [
    {
     "name": "stdout",
     "output_type": "stream",
     "text": [
      "Reconstruction-error threshold = 68.925407\n"
     ]
    }
   ],
   "source": [
    "# Compute AE threshold (99.99 percentile)\n",
    "val_size  = int(0.1 * len(X_ae_dense))\n",
    "recon_val = ae.predict(X_ae_dense[:val_size], batch_size=512, verbose=0)\n",
    "err_val   = np.mean(np.square(recon_val - X_ae_dense[:val_size]), axis=1)\n",
    "\n",
    "THRESH = np.percentile(err_val, 99.99)\n",
    "print(f\"Reconstruction-error threshold = {THRESH:.6f}\")\n"
   ]
  },
  {
   "cell_type": "code",
   "execution_count": 7,
   "id": "e1601440",
   "metadata": {},
   "outputs": [],
   "source": [
    "# Predict on chatgpt_data set\n",
    "test_csv = \"assets/chatgpt_data/transactions_o3_2_test.csv\"\n",
    "test_lbl = None   # set path if you have labels\n",
    "\n",
    "test_df   = load_and_prepare(test_csv, test_lbl)\n",
    "has_label = \"target\" in test_df.columns\n",
    "if has_label:\n",
    "    y_test = test_df[\"target\"]\n",
    "\n",
    "X_test = test_df.drop(columns=[\"transaction_id\", \"date\"] +\n",
    "                                ([\"target\"] if has_label else []))\n",
    "\n",
    "# Stage 1 — IF\n",
    "X_test_sparse   = base_pre.transform(X_test)\n",
    "X_test_reduced  = svd.transform(X_test_sparse)\n",
    "X_test_scaled   = scaler.transform(X_test_reduced)\n",
    "\n",
    "if_flag = (iso.predict(X_test_scaled) == -1).astype(int)\n",
    "\n",
    "# Stage 2 — AE\n",
    "recon_test = ae.predict(X_test_scaled.astype(\"float32\"),\n",
    "                        batch_size=1024, verbose=0)\n",
    "err_test   = np.mean(np.square(recon_test - X_test_scaled), axis=1)\n",
    "ae_flag    = (err_test > THRESH).astype(int)\n",
    "\n",
    "y_pred = (if_flag | ae_flag)\n"
   ]
  },
  {
   "cell_type": "code",
   "execution_count": 8,
   "id": "e3a8c63d",
   "metadata": {},
   "outputs": [
    {
     "name": "stdout",
     "output_type": "stream",
     "text": [
      "Accuracy : 0.8932\n",
      "Precision: 0.08561643835616438\n",
      "Recall   : 1.0\n",
      "F1       : 0.15772870662460567\n"
     ]
    },
    {
     "data": {
      "image/png": "[encoded data removed]",
      "text/plain": [
       "<Figure size 640x480 with 2 Axes>"
      ]
     },
     "metadata": {},
     "output_type": "display_data"
    }
   ],
   "source": [
    "# Metrics\n",
    "if has_label:\n",
    "    print(\"Accuracy :\",  accuracy_score(y_test, y_pred))\n",
    "    print(\"Precision:\",  precision_score(y_test, y_pred, zero_division=0))\n",
    "    print(\"Recall   :\",  recall_score(y_test, y_pred))\n",
    "    print(\"F1       :\",  f1_score(y_test, y_pred))\n",
    "\n",
    "    cm   = confusion_matrix(y_test, y_pred)\n",
    "    disp = ConfusionMatrixDisplay(cm, display_labels=[\"No Fraud\", \"Fraud\"])\n",
    "    disp.plot(cmap=plt.cm.Blues)\n",
    "    plt.title(\"Confusion Matrix — chatgpt_data\")\n",
    "    plt.tight_layout()\n",
    "    plt.show()\n",
    "else:\n",
    "    print(\"Predictions generated (no ground-truth labels supplied).\")"
   ]
  }
 ],
 "metadata": {
  "kernelspec": {
   "display_name": "pwc-autoencoder",
   "language": "python",
   "name": "python3"
  },
  "language_info": {
   "codemirror_mode": {
    "name": "ipython",
    "version": 3
   },
   "file_extension": ".py",
   "mimetype": "text/x-python",
   "name": "python",
   "nbconvert_exporter": "python",
   "pygments_lexer": "ipython3",
   "version": "3.11.11"
  }
 },
 "nbformat": 4,
 "nbformat_minor": 5
}
