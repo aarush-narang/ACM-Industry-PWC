{
 "cells": [
  {
   "cell_type": "code",
   "execution_count": 30,
   "id": "98e0e3dc",
   "metadata": {},
   "outputs": [],
   "source": [
    "# ────────────────────────────────────────\n",
    "# Cell 1 — Imports & robust load helper\n",
    "# ────────────────────────────────────────\n",
    "import pandas as pd\n",
    "import numpy as np\n",
    "import matplotlib.pyplot as plt\n",
    "\n",
    "from sklearn.compose import ColumnTransformer\n",
    "from sklearn.preprocessing import OneHotEncoder, StandardScaler\n",
    "from sklearn.pipeline    import Pipeline\n",
    "from sklearn.ensemble    import IsolationForest\n",
    "from sklearn.metrics     import (\n",
    "    accuracy_score, precision_score, recall_score,\n",
    "    f1_score, confusion_matrix, ConfusionMatrixDisplay\n",
    ")\n",
    "\n",
    "def load_and_prepare(path_csv, path_labels=None):\n",
    "    \"\"\"\n",
    "    Read a transactions CSV (and optional labels JSON), clean it,\n",
    "    and add hour/day features. Works whether 'amount' is a string\n",
    "    with '$' or already numeric.\n",
    "    \"\"\"\n",
    "    df = pd.read_csv(\n",
    "        path_csv,\n",
    "        usecols=[\"id\", \"date\", \"amount\", \"merchant_city\", \"mcc\"]\n",
    "    )\n",
    "\n",
    "    df[\"date\"] = pd.to_datetime(df[\"date\"])\n",
    "\n",
    "    # --- robust 'amount' cleaning -------------------------------\n",
    "    if pd.api.types.is_numeric_dtype(df[\"amount\"]):\n",
    "        df[\"amount\"] = df[\"amount\"].astype(float)\n",
    "    else:\n",
    "        df[\"amount\"] = (\n",
    "            df[\"amount\"]\n",
    "              .astype(str)\n",
    "              .str.replace(r\"[$,]\", \"\", regex=True)\n",
    "              .astype(float)\n",
    "        )\n",
    "\n",
    "    # rename + derived features\n",
    "    df = df.rename(columns={\"id\": \"transaction_id\",\n",
    "                            \"merchant_city\": \"location\"})\n",
    "    df[\"hour_of_day\"] = df[\"date\"].dt.hour\n",
    "    df[\"day_of_week\"] = df[\"date\"].dt.weekday\n",
    "\n",
    "    if path_labels is not None:\n",
    "        lbl = (pd.read_json(path_labels)\n",
    "                 .reset_index()\n",
    "                 .rename(columns={\"index\": \"transaction_id\"})\n",
    "                 .replace({\"target\": {\"Yes\": 1, \"No\": 0}}))\n",
    "        df = df.merge(lbl, on=\"transaction_id\")\n",
    "\n",
    "    # inject target column if it exists\n",
    "    df_target = pd.read_csv(path_csv)\n",
    "    if \"target\" in df_target.columns:\n",
    "        df[\"target\"] = df_target[\"target\"].astype(int)\n",
    "\n",
    "    return df\n"
   ]
  },
  {
   "cell_type": "code",
   "execution_count": 31,
   "id": "b04d0188",
   "metadata": {},
   "outputs": [
    {
     "name": "stderr",
     "output_type": "stream",
     "text": [
      "/var/folders/gd/d2vxxv2x60j28jw85n3wg5dw0000gn/T/ipykernel_47083/3671967283.py:51: FutureWarning: Downcasting behavior in `replace` is deprecated and will be removed in a future version. To retain the old behavior, explicitly call `result.infer_objects(copy=False)`. To opt-in to the future behavior, set `pd.set_option('future.no_silent_downcasting', True)`\n",
      "  .replace({\"target\": {\"Yes\": 1, \"No\": 0}}))\n"
     ]
    },
    {
     "name": "stdout",
     "output_type": "stream",
     "text": [
      "Training F1: 0.001229326965596533\n"
     ]
    }
   ],
   "source": [
    "# ───────────────────────────────\n",
    "# Cell 2 — TRAIN on Kaggle\n",
    "# ───────────────────────────────\n",
    "kag_tx_file     = \"assets/kaggle_data/transactions_data.csv\"\n",
    "kag_labels_file = \"assets/kaggle_data/train_fraud_labels.json\"   # contains 'Yes'/'No'\n",
    "\n",
    "train_df = load_and_prepare(kag_tx_file, kag_labels_file)\n",
    "\n",
    "y_train = train_df[\"target\"]\n",
    "X_train = train_df.drop(columns=[\"transaction_id\", \"date\", \"target\"])\n",
    "\n",
    "cat_cols = [\"location\", \"mcc\"]\n",
    "num_cols = [\"amount\", \"hour_of_day\", \"day_of_week\"]\n",
    "\n",
    "pre = ColumnTransformer(\n",
    "        transformers=[\n",
    "            (\"cat\",\n",
    "             OneHotEncoder(handle_unknown=\"ignore\",\n",
    "                           sparse_output=True,\n",
    "                           dtype=np.int8),\n",
    "             cat_cols),\n",
    "            (\"num\", StandardScaler(), num_cols)\n",
    "        ],\n",
    "        sparse_threshold=0.3\n",
    ")\n",
    "\n",
    "iso = IsolationForest(\n",
    "        n_estimators=200,\n",
    "        max_samples=1.0,\n",
    "        contamination=0.1,\n",
    "        n_jobs=-1,\n",
    "        random_state=42\n",
    ")\n",
    "\n",
    "clf = Pipeline([(\"pre\", pre),\n",
    "                (\"iso\", iso)])\n",
    "\n",
    "clf.fit(X_train)\n",
    "\n",
    "# (optional) quick sanity-check on training set\n",
    "train_pred = np.where(clf.predict(X_train) == -1, 1, 0)\n",
    "print(\"Training F1:\", f1_score(y_train, train_pred))\n"
   ]
  },
  {
   "cell_type": "code",
   "execution_count": 32,
   "id": "7842dd18",
   "metadata": {},
   "outputs": [
    {
     "name": "stdout",
     "output_type": "stream",
     "text": [
      "Accuracy : 0.911\n",
      "Precision: 0.026378896882494004\n",
      "Recall   : 0.22\n",
      "F1       : 0.047109207708779445\n"
     ]
    },
    {
     "data": {
      "image/png": "[encoded data removed]",
      "text/plain": [
       "<Figure size 640x480 with 2 Axes>"
      ]
     },
     "metadata": {},
     "output_type": "display_data"
    }
   ],
   "source": [
    "# ───────────────────────────────\n",
    "# Cell 3 — TEST on chatgpt_data\n",
    "# ───────────────────────────────\n",
    "test_tx_file = \"assets/chatgpt_data/transactions_o3_2_test.csv\"\n",
    "# If you *have* a labels JSON for this set, put its path below; else leave None\n",
    "test_labels_file = None    # e.g. \"assets/chatgpt_data/o3_labels.json\"\n",
    "\n",
    "test_df = load_and_prepare(test_tx_file, test_labels_file)\n",
    "\n",
    "has_labels = \"target\" in test_df.columns\n",
    "if has_labels:\n",
    "    y_test = test_df[\"target\"]\n",
    "\n",
    "X_test = test_df.drop(columns=[\"transaction_id\", \"date\"] +\n",
    "                                ([\"target\"] if has_labels else []))\n",
    "\n",
    "# ---------- predict ----------\n",
    "y_pred = np.where(clf.predict(X_test) == -1, 1, 0)\n",
    "\n",
    "# ---------- metrics ----------\n",
    "if has_labels:\n",
    "    print(\"Accuracy :\",  accuracy_score(y_test, y_pred))\n",
    "    print(\"Precision:\",  precision_score(y_test, y_pred, zero_division=0))\n",
    "    print(\"Recall   :\",  recall_score(y_test, y_pred))\n",
    "    print(\"F1       :\",  f1_score(y_test, y_pred))\n",
    "\n",
    "    cm   = confusion_matrix(y_test, y_pred)\n",
    "    disp = ConfusionMatrixDisplay(cm, display_labels=[\"No Fraud\", \"Fraud\"])\n",
    "    disp.plot(cmap=plt.cm.Blues)\n",
    "    plt.title(\"Confusion Matrix – chatgpt_data\")\n",
    "    plt.tight_layout()\n",
    "    plt.show()\n",
    "else:\n",
    "    print(\"Predictions generated (no ground-truth labels supplied).\")\n"
   ]
  }
 ],
 "metadata": {
  "kernelspec": {
   "display_name": "acm-industry-pwc",
   "language": "python",
   "name": "python3"
  },
  "language_info": {
   "codemirror_mode": {
    "name": "ipython",
    "version": 3
   },
   "file_extension": ".py",
   "mimetype": "text/x-python",
   "name": "python",
   "nbconvert_exporter": "python",
   "pygments_lexer": "ipython3",
   "version": "3.13.2"
  }
 },
 "nbformat": 4,
 "nbformat_minor": 5
}
